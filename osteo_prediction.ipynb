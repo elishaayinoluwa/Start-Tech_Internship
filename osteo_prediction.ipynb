{
 "cells": [
  {
   "cell_type": "code",
   "execution_count": 1,
   "id": "dc4082bf",
   "metadata": {},
   "outputs": [],
   "source": [
    "import pandas as pd\n",
    "from tensorflow import keras\n",
    "import tensorflow as tf\n",
    "from keras.preprocessing.image import load_img, img_to_array\n",
    "import seaborn as sns\n",
    "import numpy as np\n",
    "from matplotlib import pyplot as plt\n",
    "%matplotlib inline\n",
    "import glob\n",
    "import warnings\n",
    "warnings.filterwarnings(\"ignore\")\n",
    "import cv2\n",
    "from sklearn.preprocessing import StandardScaler\n",
    "import random"
   ]
  },
  {
   "cell_type": "code",
   "execution_count": 2,
   "id": "2cd1973a",
   "metadata": {},
   "outputs": [],
   "source": [
    "test =glob.glob(r\"C:\\Users\\awx1197093\\Desktop\\Start-Tech\\Deep_Learning\\test\\*\\*\")\n",
    "train = glob.glob(r\"C:\\Users\\awx1197093\\Desktop\\Start-Tech\\Deep_Learning\\train\\*\\*\")\n",
    "valid = glob.glob(r\"C:\\Users\\awx1197093\\Desktop\\Start-Tech\\Deep_Learning\\Valid\\*\\*\")"
   ]
  },
  {
   "cell_type": "code",
   "execution_count": 3,
   "id": "cc1460df",
   "metadata": {},
   "outputs": [],
   "source": [
    "random.seed(0)\n",
    "random.shuffle(test)\n",
    "random.shuffle(train)\n",
    "random.shuffle(valid)"
   ]
  },
  {
   "cell_type": "code",
   "execution_count": 4,
   "id": "d6fb2472",
   "metadata": {},
   "outputs": [],
   "source": [
    "test_target = np.array([[1.0,0.0] if \"Normal\" in directory else [0.0,1.0] for directory in test])\n",
    "train_target = np.array([[1.0,0.0] if \"Normal\" in directory else [0.0,1.0] for directory in train])\n",
    "valid_target = np.array([[1.0,0.0] if \"Normal\" in directory else [0.0,1.0] for directory in valid])"
   ]
  },
  {
   "cell_type": "code",
   "execution_count": 5,
   "id": "5759e6c5",
   "metadata": {},
   "outputs": [],
   "source": [
    "test_data = np.stack([cv2.resize(cv2.imread(image), (200,200)) for image in test]) / 255.0\n",
    "train_data = np.stack([cv2.resize(cv2.imread(image), (200,200)) for image in train]) / 255.0\n",
    "valid_data = np.stack([cv2.resize(cv2.imread(image), (200, 200)) for image in valid]) / 255.0"
   ]
  },
  {
   "cell_type": "code",
   "execution_count": 6,
   "id": "06cbf16e",
   "metadata": {},
   "outputs": [],
   "source": [
    "np.random.seed(25)\n",
    "tf.random.set_seed(25)"
   ]
  },
  {
   "cell_type": "code",
   "execution_count": 7,
   "id": "3208feaf",
   "metadata": {},
   "outputs": [],
   "source": [
    "model = keras.models.Sequential()\n",
    "model.add(keras.layers.Conv2D(filters=32, kernel_size=(3,3), padding=\"same\", activation=\"relu\", \n",
    "                              input_shape=(200,200,3)))\n",
    "model.add(keras.layers.MaxPooling2D((2,2)))\n",
    "model.add(keras.layers.Conv2D(filters=32, kernel_size=(3,3), padding=\"same\", activation=\"relu\"))\n",
    "model.add(keras.layers.MaxPooling2D((2,2)))\n",
    "model.add(keras.layers.Conv2D(filters=32, kernel_size=(3,3), padding=\"same\", activation=\"relu\"))\n",
    "model.add(keras.layers.MaxPooling2D((2,2)))\n",
    "model.add(keras.layers.Conv2D(filters=32, kernel_size=(3,3), padding=\"same\", activation=\"relu\"))\n",
    "model.add(keras.layers.MaxPooling2D((2,2)))\n",
    "model.add(keras.layers.Flatten())\n",
    "model.add(keras.layers.Dense(200, activation=\"relu\"))\n",
    "model.add(keras.layers.Dense(2, activation=\"softmax\"))"
   ]
  },
  {
   "cell_type": "code",
   "execution_count": 8,
   "id": "e115fad0",
   "metadata": {},
   "outputs": [
    {
     "name": "stdout",
     "output_type": "stream",
     "text": [
      "Model: \"sequential\"\n",
      "_________________________________________________________________\n",
      "Layer (type)                 Output Shape              Param #   \n",
      "=================================================================\n",
      "conv2d (Conv2D)              (None, 200, 200, 32)      896       \n",
      "_________________________________________________________________\n",
      "max_pooling2d (MaxPooling2D) (None, 100, 100, 32)      0         \n",
      "_________________________________________________________________\n",
      "conv2d_1 (Conv2D)            (None, 100, 100, 32)      9248      \n",
      "_________________________________________________________________\n",
      "max_pooling2d_1 (MaxPooling2 (None, 50, 50, 32)        0         \n",
      "_________________________________________________________________\n",
      "flatten (Flatten)            (None, 80000)             0         \n",
      "_________________________________________________________________\n",
      "dense (Dense)                (None, 200)               16000200  \n",
      "_________________________________________________________________\n",
      "dense_1 (Dense)              (None, 2)                 402       \n",
      "=================================================================\n",
      "Total params: 16,010,746\n",
      "Trainable params: 16,010,746\n",
      "Non-trainable params: 0\n",
      "_________________________________________________________________\n"
     ]
    }
   ],
   "source": [
    "model.summary()"
   ]
  },
  {
   "cell_type": "code",
   "execution_count": 9,
   "id": "c39b3770",
   "metadata": {},
   "outputs": [],
   "source": [
    "model.compile(loss=\"categorical_crossentropy\",\n",
    "             optimizer=\"sgd\",\n",
    "             metrics=[\"accuracy\"])"
   ]
  },
  {
   "cell_type": "code",
   "execution_count": 10,
   "id": "11458e0f",
   "metadata": {},
   "outputs": [
    {
     "name": "stdout",
     "output_type": "stream",
     "text": [
      "Epoch 1/30\n",
      "74/74 [==============================] - 96s 1s/step - loss: 0.6551 - accuracy: 0.6523 - val_loss: 0.6301 - val_accuracy: 0.6724\n",
      "Epoch 2/30\n",
      "74/74 [==============================] - 87s 1s/step - loss: 0.6175 - accuracy: 0.6549 - val_loss: 0.5814 - val_accuracy: 0.6724\n",
      "Epoch 3/30\n",
      "74/74 [==============================] - 82s 1s/step - loss: 0.5979 - accuracy: 0.6621 - val_loss: 0.5867 - val_accuracy: 0.6724\n",
      "Epoch 4/30\n",
      "74/74 [==============================] - 91s 1s/step - loss: 0.5801 - accuracy: 0.6566 - val_loss: 0.5332 - val_accuracy: 0.7535\n",
      "Epoch 5/30\n",
      "74/74 [==============================] - 86s 1s/step - loss: 0.5672 - accuracy: 0.6570 - val_loss: 0.5068 - val_accuracy: 0.6755\n",
      "Epoch 6/30\n",
      "74/74 [==============================] - 90s 1s/step - loss: 0.5586 - accuracy: 0.6791 - val_loss: 0.5119 - val_accuracy: 0.6708\n",
      "Epoch 7/30\n",
      "74/74 [==============================] - 85s 1s/step - loss: 0.5550 - accuracy: 0.6655 - val_loss: 0.5552 - val_accuracy: 0.6739\n",
      "Epoch 8/30\n",
      "74/74 [==============================] - 101s 1s/step - loss: 0.5371 - accuracy: 0.6940 - val_loss: 0.4875 - val_accuracy: 0.7192\n",
      "Epoch 9/30\n",
      "74/74 [==============================] - 79s 1s/step - loss: 0.5214 - accuracy: 0.7051 - val_loss: 0.6446 - val_accuracy: 0.6724\n",
      "Epoch 10/30\n",
      "74/74 [==============================] - 81s 1s/step - loss: 0.5086 - accuracy: 0.7294 - val_loss: 0.4458 - val_accuracy: 0.7894\n",
      "Epoch 11/30\n",
      "74/74 [==============================] - 91s 1s/step - loss: 0.5092 - accuracy: 0.7166 - val_loss: 0.4529 - val_accuracy: 0.7738\n",
      "Epoch 12/30\n",
      "74/74 [==============================] - 95s 1s/step - loss: 0.4895 - accuracy: 0.7383 - val_loss: 0.5256 - val_accuracy: 0.6864\n",
      "Epoch 13/30\n",
      "74/74 [==============================] - 84s 1s/step - loss: 0.4767 - accuracy: 0.7511 - val_loss: 0.5385 - val_accuracy: 0.6786\n",
      "Epoch 14/30\n",
      "74/74 [==============================] - 85s 1s/step - loss: 0.4618 - accuracy: 0.7511 - val_loss: 0.4383 - val_accuracy: 0.7847\n",
      "Epoch 15/30\n",
      "74/74 [==============================] - 90s 1s/step - loss: 0.4558 - accuracy: 0.7740 - val_loss: 0.5245 - val_accuracy: 0.7129\n",
      "Epoch 16/30\n",
      "74/74 [==============================] - 81s 1s/step - loss: 0.4548 - accuracy: 0.7685 - val_loss: 0.4840 - val_accuracy: 0.7317\n",
      "Epoch 17/30\n",
      "74/74 [==============================] - 86s 1s/step - loss: 0.4522 - accuracy: 0.7630 - val_loss: 0.5494 - val_accuracy: 0.6708\n",
      "Epoch 18/30\n",
      "74/74 [==============================] - 80s 1s/step - loss: 0.4332 - accuracy: 0.7745 - val_loss: 0.3909 - val_accuracy: 0.8081\n",
      "Epoch 19/30\n",
      "74/74 [==============================] - 84s 1s/step - loss: 0.4269 - accuracy: 0.7889 - val_loss: 0.3917 - val_accuracy: 0.7847\n",
      "Epoch 20/30\n",
      "74/74 [==============================] - 95s 1s/step - loss: 0.4109 - accuracy: 0.8021 - val_loss: 0.3653 - val_accuracy: 0.8393\n",
      "Epoch 21/30\n",
      "74/74 [==============================] - 89s 1s/step - loss: 0.4069 - accuracy: 0.7996 - val_loss: 0.3520 - val_accuracy: 0.8393\n",
      "Epoch 22/30\n",
      "74/74 [==============================] - 95s 1s/step - loss: 0.3934 - accuracy: 0.8200 - val_loss: 0.3381 - val_accuracy: 0.8362\n",
      "Epoch 23/30\n",
      "74/74 [==============================] - 87s 1s/step - loss: 0.4055 - accuracy: 0.8055 - val_loss: 0.5274 - val_accuracy: 0.7473\n",
      "Epoch 24/30\n",
      "74/74 [==============================] - 84s 1s/step - loss: 0.3791 - accuracy: 0.8243 - val_loss: 0.3840 - val_accuracy: 0.8034\n",
      "Epoch 25/30\n",
      "74/74 [==============================] - 101s 1s/step - loss: 0.3724 - accuracy: 0.8302 - val_loss: 0.7155 - val_accuracy: 0.6989\n",
      "Epoch 26/30\n",
      "74/74 [==============================] - 88s 1s/step - loss: 0.3804 - accuracy: 0.8230 - val_loss: 0.5107 - val_accuracy: 0.7441\n",
      "Epoch 27/30\n",
      "74/74 [==============================] - 86s 1s/step - loss: 0.3815 - accuracy: 0.8226 - val_loss: 0.3688 - val_accuracy: 0.8253\n",
      "Epoch 28/30\n",
      "74/74 [==============================] - 87s 1s/step - loss: 0.3668 - accuracy: 0.8315 - val_loss: 0.4472 - val_accuracy: 0.7785\n",
      "Epoch 29/30\n",
      "74/74 [==============================] - 79s 1s/step - loss: 0.3668 - accuracy: 0.8289 - val_loss: 0.3421 - val_accuracy: 0.8362\n",
      "Epoch 30/30\n",
      "74/74 [==============================] - 88s 1s/step - loss: 0.3606 - accuracy: 0.8349 - val_loss: 0.2855 - val_accuracy: 0.8752\n"
     ]
    }
   ],
   "source": [
    "model_history = model.fit(x=train_data, y=train_target, epochs= 30,\n",
    "                         validation_data=(valid_data, valid_target))"
   ]
  },
  {
   "cell_type": "code",
   "execution_count": null,
   "id": "314e71fe",
   "metadata": {},
   "outputs": [],
   "source": []
  }
 ],
 "metadata": {
  "kernelspec": {
   "display_name": "Python 3 (ipykernel)",
   "language": "python",
   "name": "python3"
  },
  "language_info": {
   "codemirror_mode": {
    "name": "ipython",
    "version": 3
   },
   "file_extension": ".py",
   "mimetype": "text/x-python",
   "name": "python",
   "nbconvert_exporter": "python",
   "pygments_lexer": "ipython3",
   "version": "3.9.12"
  }
 },
 "nbformat": 4,
 "nbformat_minor": 5
}
